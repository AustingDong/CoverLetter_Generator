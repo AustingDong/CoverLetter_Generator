{
 "cells": [
  {
   "attachments": {},
   "cell_type": "markdown",
   "metadata": {},
   "source": [
    "1. import required functions"
   ]
  },
  {
   "cell_type": "code",
   "execution_count": 1,
   "metadata": {},
   "outputs": [],
   "source": [
    "from Generator import Coverletter, save_to_word, convert_to_pdf"
   ]
  },
  {
   "attachments": {},
   "cell_type": "markdown",
   "metadata": {},
   "source": [
    "2. input Date, Companies and Jobs"
   ]
  },
  {
   "cell_type": "code",
   "execution_count": 2,
   "metadata": {},
   "outputs": [],
   "source": [
    "DATE = \"May 22nd, 2023\"\n",
    "CJ = [\n",
    "    {\"company\": \"Great Circle Solar Management Corporation - Divisional Office\", \n",
    "     \"job\": \"Operations Analyst\"},\n",
    "\n",
    "    {\"company\": \"Home Hardware Stores Limited - Divisional Office\",\n",
    "     \"job\": \"IT - In Store Systems\"},\n",
    "\n",
    "    {\"company\": \"Home Hardware Stores Limited - Divisional Office\",\n",
    "     \"job\": \"IT - eCommerce\"},\n",
    "\n",
    "    {\"company\": \"IESO (Independent Electricity System Operator) - Corporate Resources\",\n",
    "     \"job\": \"Information Security Student\"},\n",
    "\n",
    "    {\"company\": \"Toronto Transit Commission - Information Technology Services\",\n",
    "     \"job\": \"IT Services, Customer Services - End User Device Technician\"},\n",
    "\n",
    "    {\"company\": \"University of Waterloo - Faculty of Science\",\n",
    "     \"job\": \"Software Developer for Mac OS (Co-op)\"},\n",
    "\n",
    "    {\"company\": \"Windsor-Detroit Bridge Authority - Divisional Office\",\n",
    "     \"job\": \"IT Co-op Student\"},\n",
    "\n",
    "]\n",
    "\n",
    "# {\"company\": \"\",\n",
    "#      \"job\": \"\"},"
   ]
  },
  {
   "attachments": {},
   "cell_type": "markdown",
   "metadata": {},
   "source": [
    "3. generate"
   ]
  },
  {
   "cell_type": "code",
   "execution_count": 3,
   "metadata": {},
   "outputs": [
    {
     "name": "stdout",
     "output_type": "stream",
     "text": [
      "1/7\n",
      "2/7\n",
      "3/7\n",
      "4/7\n",
      "5/7\n",
      "6/7\n",
      "7/7\n"
     ]
    }
   ],
   "source": [
    "n = len(CJ)\n",
    "cnt = 0\n",
    "FOLDER = \"./CoverLetters/\"\n",
    "for cj in CJ:\n",
    "    temp_company = cj[\"company\"]\n",
    "    temp_job = cj[\"job\"]\n",
    "\n",
    "    coverletter = Coverletter(temp_company, temp_job, DATE)\n",
    "\n",
    "    save_to_word(coverletter, FOLDER+f\"{temp_company}--{temp_job}.docx\")\n",
    "    convert_to_pdf(FOLDER+f\"{temp_company}--{temp_job}.docx\", FOLDER+f\"{temp_company}--{temp_job}.pdf\")\n",
    "\n",
    "    cnt += 1\n",
    "    print(f\"{cnt}/{n}\")\n",
    "\n",
    "    \n"
   ]
  },
  {
   "attachments": {},
   "cell_type": "markdown",
   "metadata": {},
   "source": [
    "change settings, then go to ex.txt, copy, and change config.json manually. (if need)"
   ]
  },
  {
   "cell_type": "code",
   "execution_count": 10,
   "metadata": {},
   "outputs": [],
   "source": [
    "settings = '''Please help me write a cover-letter, Here is a sample, correct base on it and make up it:[date\n",
    "]\n",
    "    From: Austing Dong\n",
    "    To: [company name\n",
    "]\n",
    "    Dear Hiring Manager,\n",
    "    I am writing to express my strong interest in applying for the position of [job\n",
    "] at [company\n",
    "]. As a University of Waterloo Computer Science undergraduate \n",
    "    student, I strongly believe that my technical competencies and academic background are \n",
    "    closely in line with the job requirement. I would like to highlight the following for your \n",
    "    consideration:\n",
    "    I loved computer science as well as developing applications since Middle school when I earned \n",
    "    the gold rank for the USA Computing Olympiad algorithm contest, and I did an excellent job in \n",
    "    relevant courses in the beginning of my University studies. I found solving business challenges \n",
    "    through programming is fascinating because this is the way I feel the sense of accomplishment. \n",
    "    Such deep interest in programming and technology has motivated me to deep dive in related \n",
    "    fields such as software development, quality assurance and machine learning.\n",
    "    The computer science co-op program at the University of Waterloo offered me a unique \n",
    "    opportunity to take on both programing and logical courses. Through working on a massive \n",
    "    number of technical projects and assignments from hackathons and school activities, I gained \n",
    "    hands on experience in fields including but not limited to object-oriented programming, web \n",
    "    application development, artificial intelligence, algorithm design and data abstraction. Such \n",
    "    projects can be viewed on my GitHub: AustingDong (Austing Dong) (github.com). One of the \n",
    "    biggest project I led and built was implementing an application that uses AI to extract keywords \n",
    "    from articles containing scientific or technical information which helps users quickly locate their \n",
    "    desired items based on keywords’ weight. This application can be used to quickly get all the \n",
    "    important items and keywords from NASA Technical Report Server which includes hundreds of \n",
    "    thousands of items containing scientific and technical information (STI) created or funded by \n",
    "    NASA. Project detail can be found here. Through understanding the project requirements, \n",
    "    researching on coding algorithms, implementing the application with clean code, and \n",
    "    incorporating white and black testing in a limited time, I cultivated working experience in \n",
    "    developing a technical application in accordance with business requirements. Moreover, I’m \n",
    "    honed excellent documentation and communication skills through interpreting and explaining \n",
    "    technical concepts to my teammates while working in a team environment. I can confident that \n",
    "    my academic and project background has prepared me well, and now is the time I can make \n",
    "    valuable contributions to a workplace environment.\n",
    "    I am extremely interested in advancing my career and contributing my skills to [company name\n",
    "].I am \n",
    "    willing to answer any preliminary questions you may have. Please feel free to contact me at \n",
    "    austingdong@gmail.com or 1-226-789-9109 if you have any question or require additional \n",
    "    information.\n",
    "    Thank you for your valuable time and consideration.\n",
    "    Sincerely,\n",
    "    Austing Dong'''\n",
    "setting = settings.splitlines()\n",
    "\n",
    "res = \"\"\n",
    "for segment in setting:\n",
    "    res += segment\n",
    "\n",
    "with open('./ex.txt', 'w') as f:\n",
    "    f.write(res)"
   ]
  }
 ],
 "metadata": {
  "kernelspec": {
   "display_name": "Python 3",
   "language": "python",
   "name": "python3"
  },
  "language_info": {
   "codemirror_mode": {
    "name": "ipython",
    "version": 3
   },
   "file_extension": ".py",
   "mimetype": "text/x-python",
   "name": "python",
   "nbconvert_exporter": "python",
   "pygments_lexer": "ipython3",
   "version": "3.9.11"
  },
  "orig_nbformat": 4
 },
 "nbformat": 4,
 "nbformat_minor": 2
}
