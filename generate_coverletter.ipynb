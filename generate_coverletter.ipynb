{
 "cells": [
  {
   "attachments": {},
   "cell_type": "markdown",
   "metadata": {},
   "source": [
    "1. import required functions"
   ]
  },
  {
   "cell_type": "code",
   "execution_count": 1,
   "metadata": {},
   "outputs": [],
   "source": [
    "from Generator import Coverletter, save_to_word, convert_to_pdf"
   ]
  },
  {
   "attachments": {},
   "cell_type": "markdown",
   "metadata": {},
   "source": [
    "2. input Date, Companies and Jobs"
   ]
  },
  {
   "cell_type": "code",
   "execution_count": 2,
   "metadata": {},
   "outputs": [],
   "source": [
    "DATE = \"May 22nd, 2023\"\n",
    "CJ = [\n",
    "    {\"company\": \"Great Circle Solar Management Corporation - Divisional Office\", \n",
    "     \"job\": \"Operations Analyst\"},\n",
    "\n",
    "    {\"company\": \"Home Hardware Stores Limited - Divisional Office\",\n",
    "     \"job\": \"IT - In Store Systems\"},\n",
    "\n",
    "    {\"company\": \"Home Hardware Stores Limited - Divisional Office\",\n",
    "     \"job\": \"IT - eCommerce\"},\n",
    "\n",
    "    {\"company\": \"IESO (Independent Electricity System Operator) - Corporate Resources\",\n",
    "     \"job\": \"Information Security Student\"},\n",
    "\n",
    "    {\"company\": \"Toronto Transit Commission - Information Technology Services\",\n",
    "     \"job\": \"IT Services, Customer Services - End User Device Technician\"},\n",
    "\n",
    "    {\"company\": \"University of Waterloo - Faculty of Science\",\n",
    "     \"job\": \"Software Developer for Mac OS (Co-op)\"},\n",
    "\n",
    "    {\"company\": \"Windsor-Detroit Bridge Authority - Divisional Office\",\n",
    "     \"job\": \"IT Co-op Student\"},\n",
    "\n",
    "]\n",
    "\n",
    "# {\"company\": \"\",\n",
    "#      \"job\": \"\"},"
   ]
  },
  {
   "attachments": {},
   "cell_type": "markdown",
   "metadata": {},
   "source": [
    "3. generate"
   ]
  },
  {
   "cell_type": "code",
   "execution_count": 3,
   "metadata": {},
   "outputs": [
    {
     "name": "stdout",
     "output_type": "stream",
     "text": [
      "1/7\n",
      "2/7\n",
      "3/7\n",
      "4/7\n",
      "5/7\n",
      "6/7\n",
      "7/7\n"
     ]
    }
   ],
   "source": [
    "n = len(CJ)\n",
    "cnt = 0\n",
    "FOLDER = \"./CoverLetters/\"\n",
    "for cj in CJ:\n",
    "    temp_company = cj[\"company\"]\n",
    "    temp_job = cj[\"job\"]\n",
    "\n",
    "    coverletter = Coverletter(temp_company, temp_job, DATE)\n",
    "\n",
    "    save_to_word(coverletter, FOLDER+f\"{temp_company}--{temp_job}.docx\")\n",
    "    convert_to_pdf(FOLDER+f\"{temp_company}--{temp_job}.docx\", FOLDER+f\"{temp_company}--{temp_job}.pdf\")\n",
    "\n",
    "    cnt += 1\n",
    "    print(f\"{cnt}/{n}\")\n",
    "\n",
    "    \n"
   ]
  }
 ],
 "metadata": {
  "kernelspec": {
   "display_name": "Python 3",
   "language": "python",
   "name": "python3"
  },
  "language_info": {
   "codemirror_mode": {
    "name": "ipython",
    "version": 3
   },
   "file_extension": ".py",
   "mimetype": "text/x-python",
   "name": "python",
   "nbconvert_exporter": "python",
   "pygments_lexer": "ipython3",
   "version": "3.9.11"
  },
  "orig_nbformat": 4
 },
 "nbformat": 4,
 "nbformat_minor": 2
}
