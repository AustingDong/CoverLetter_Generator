{
 "cells": [
  {
   "attachments": {},
   "cell_type": "markdown",
   "metadata": {},
   "source": [
    "1. import required functions"
   ]
  },
  {
   "cell_type": "code",
   "execution_count": 1,
   "metadata": {},
   "outputs": [
    {
     "ename": "ModuleNotFoundError",
     "evalue": "No module named 'win32com'",
     "output_type": "error",
     "traceback": [
      "\u001b[0;31m---------------------------------------------------------------------------\u001b[0m",
      "\u001b[0;31mModuleNotFoundError\u001b[0m                       Traceback (most recent call last)",
      "\u001b[1;32m/Users/donglianghan/Desktop/My_Projects/CoverLetter_Generator/generate_coverletter.ipynb 单元格 2\u001b[0m line \u001b[0;36m1\n\u001b[0;32m----> <a href='vscode-notebook-cell:/Users/donglianghan/Desktop/My_Projects/CoverLetter_Generator/generate_coverletter.ipynb#W1sZmlsZQ%3D%3D?line=0'>1</a>\u001b[0m \u001b[39mfrom\u001b[39;00m \u001b[39mGenerator\u001b[39;00m \u001b[39mimport\u001b[39;00m Coverletter, save_to_word, convert_to_pdf\n",
      "File \u001b[0;32m~/Desktop/My_Projects/CoverLetter_Generator/Generator.py:5\u001b[0m\n\u001b[1;32m      3\u001b[0m \u001b[39mimport\u001b[39;00m \u001b[39mos\u001b[39;00m\n\u001b[1;32m      4\u001b[0m \u001b[39mfrom\u001b[39;00m \u001b[39mdocx\u001b[39;00m \u001b[39mimport\u001b[39;00m Document\n\u001b[0;32m----> 5\u001b[0m \u001b[39mimport\u001b[39;00m \u001b[39mwin32com\u001b[39;00m\u001b[39m.\u001b[39;00m\u001b[39mclient\u001b[39;00m\n\u001b[1;32m      7\u001b[0m \u001b[39mdef\u001b[39;00m \u001b[39mGPT\u001b[39m(msg):\n\u001b[1;32m      9\u001b[0m     \u001b[39mwith\u001b[39;00m \u001b[39mopen\u001b[39m(\u001b[39m'\u001b[39m\u001b[39m./config.json\u001b[39m\u001b[39m'\u001b[39m, \u001b[39m'\u001b[39m\u001b[39mr\u001b[39m\u001b[39m'\u001b[39m) \u001b[39mas\u001b[39;00m f:\n",
      "\u001b[0;31mModuleNotFoundError\u001b[0m: No module named 'win32com'"
     ]
    }
   ],
   "source": [
    "from Generator import Coverletter, save_to_word, convert_to_pdf"
   ]
  },
  {
   "attachments": {},
   "cell_type": "markdown",
   "metadata": {},
   "source": [
    "2. input Date, Companies and Jobs"
   ]
  },
  {
   "cell_type": "code",
   "execution_count": null,
   "metadata": {},
   "outputs": [],
   "source": [
    "DATE = \"May 22nd, 2023\"\n",
    "CJ = [\n",
    "    {\"company\": \"Peloton Talent Community\", \n",
    "     \"job\": \"Software Engineering Internships\"},\n",
    "\n",
    "]\n",
    "\n",
    "# {\"company\": \"\",\n",
    "#      \"job\": \"\"},"
   ]
  },
  {
   "attachments": {},
   "cell_type": "markdown",
   "metadata": {},
   "source": [
    "3. generate"
   ]
  },
  {
   "cell_type": "code",
   "execution_count": null,
   "metadata": {},
   "outputs": [
    {
     "name": "stdout",
     "output_type": "stream",
     "text": [
      "1/7\n",
      "2/7\n",
      "3/7\n",
      "4/7\n",
      "5/7\n",
      "6/7\n",
      "7/7\n"
     ]
    }
   ],
   "source": [
    "n = len(CJ)\n",
    "cnt = 0\n",
    "FOLDER = \"./CoverLetters/\"\n",
    "for cj in CJ:\n",
    "    temp_company = cj[\"company\"]\n",
    "    temp_job = cj[\"job\"]\n",
    "\n",
    "    coverletter = Coverletter(temp_company, temp_job, DATE)\n",
    "\n",
    "    save_to_word(coverletter, FOLDER+f\"{temp_company}--{temp_job}.docx\")\n",
    "    convert_to_pdf(FOLDER+f\"{temp_company}--{temp_job}.docx\", FOLDER+f\"{temp_company}--{temp_job}.pdf\")\n",
    "\n",
    "    cnt += 1\n",
    "    print(f\"{cnt}/{n}\")\n",
    "\n",
    "    \n"
   ]
  }
 ],
 "metadata": {
  "kernelspec": {
   "display_name": "Python 3",
   "language": "python",
   "name": "python3"
  },
  "language_info": {
   "codemirror_mode": {
    "name": "ipython",
    "version": 3
   },
   "file_extension": ".py",
   "mimetype": "text/x-python",
   "name": "python",
   "nbconvert_exporter": "python",
   "pygments_lexer": "ipython3",
   "version": "3.9.16"
  },
  "orig_nbformat": 4
 },
 "nbformat": 4,
 "nbformat_minor": 2
}
