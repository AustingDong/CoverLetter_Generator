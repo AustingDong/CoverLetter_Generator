{
 "cells": [
  {
   "attachments": {},
   "cell_type": "markdown",
   "metadata": {},
   "source": [
    "1. import required functions"
   ]
  },
  {
   "cell_type": "code",
   "execution_count": 1,
   "metadata": {},
   "outputs": [],
   "source": [
    "from Generator import Coverletter, save_to_word, convert_to_pdf"
   ]
  },
  {
   "attachments": {},
   "cell_type": "markdown",
   "metadata": {},
   "source": [
    "2. input Date, Companies and Jobs"
   ]
  },
  {
   "cell_type": "code",
   "execution_count": 2,
   "metadata": {},
   "outputs": [],
   "source": [
    "DATE = \"June 11th, 2023\"\n",
    "CJ = [\n",
    "    {\"company\": \"Google\", \n",
    "     \"job\": \"Software Developer Intern\"},\n",
    "]\n",
    "\n",
    "# {\"company\": \"\",\n",
    "#      \"job\": \"\"},"
   ]
  },
  {
   "attachments": {},
   "cell_type": "markdown",
   "metadata": {},
   "source": [
    "3. generate"
   ]
  },
  {
   "cell_type": "code",
   "execution_count": 3,
   "metadata": {},
   "outputs": [
    {
     "name": "stdout",
     "output_type": "stream",
     "text": [
      "1/1\n"
     ]
    }
   ],
   "source": [
    "n = len(CJ)\n",
    "cnt = 0\n",
    "FOLDER = \"./CoverLetters/\"\n",
    "for cj in CJ:\n",
    "    temp_company = cj[\"company\"]\n",
    "    temp_job = cj[\"job\"]\n",
    "\n",
    "    coverletter = Coverletter(temp_company, temp_job, DATE)\n",
    "\n",
    "    save_to_word(coverletter, FOLDER+f\"{temp_company}--{temp_job}.docx\")\n",
    "    convert_to_pdf(FOLDER+f\"{temp_company}--{temp_job}.docx\", FOLDER+f\"{temp_company}--{temp_job}.pdf\")\n",
    "\n",
    "    cnt += 1\n",
    "    print(f\"{cnt}/{n}\")\n",
    "\n",
    "    \n"
   ]
  }
 ],
 "metadata": {
  "kernelspec": {
   "display_name": "Python 3",
   "language": "python",
   "name": "python3"
  },
  "language_info": {
   "codemirror_mode": {
    "name": "ipython",
    "version": 3
   },
   "file_extension": ".py",
   "mimetype": "text/x-python",
   "name": "python",
   "nbconvert_exporter": "python",
   "pygments_lexer": "ipython3",
   "version": "3.9.11"
  },
  "orig_nbformat": 4
 },
 "nbformat": 4,
 "nbformat_minor": 2
}
