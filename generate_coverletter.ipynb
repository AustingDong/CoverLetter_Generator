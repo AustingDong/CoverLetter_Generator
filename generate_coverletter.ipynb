{
 "cells": [
  {
   "attachments": {},
   "cell_type": "markdown",
   "metadata": {},
   "source": [
    "1. import required functions"
   ]
  },
  {
   "cell_type": "code",
   "execution_count": 1,
   "metadata": {},
   "outputs": [],
   "source": [
    "from Generator import Coverletter, save_to_word, convert_to_pdf\n",
    "import os"
   ]
  },
  {
   "attachments": {},
   "cell_type": "markdown",
   "metadata": {},
   "source": [
    "2. generate"
   ]
  },
  {
   "cell_type": "code",
   "execution_count": 2,
   "metadata": {},
   "outputs": [],
   "source": [
    "FOLDER = \"./CoverLetters/\"\n",
    "\n",
    "coverletter = Coverletter(\n",
    "                          api_key_var_name='OPENAI_API_KEY',     # Modify it into your own environment variable name that stores your openai api key.\n",
    "                          resume_path='./Resume/Austing_Dong_Resume____DS.pdf',     # Modify it into your own resume path\n",
    "                        ) \n",
    "\n",
    "save_to_word(coverletter, os.path.join(FOLDER, \"res.docx\"))\n",
    "convert_to_pdf(os.path.join(FOLDER, \"res.docx\"), os.path.join(FOLDER, \"res.pdf\"))"
   ]
  }
 ],
 "metadata": {
  "kernelspec": {
   "display_name": "Python 3",
   "language": "python",
   "name": "python3"
  },
  "language_info": {
   "codemirror_mode": {
    "name": "ipython",
    "version": 3
   },
   "file_extension": ".py",
   "mimetype": "text/x-python",
   "name": "python",
   "nbconvert_exporter": "python",
   "pygments_lexer": "ipython3",
   "version": "3.9.16"
  },
  "orig_nbformat": 4
 },
 "nbformat": 4,
 "nbformat_minor": 2
}
