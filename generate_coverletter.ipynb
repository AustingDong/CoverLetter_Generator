{
 "cells": [
  {
   "attachments": {},
   "cell_type": "markdown",
   "metadata": {},
   "source": [
    "1. import required functions"
   ]
  },
  {
   "cell_type": "code",
   "execution_count": 1,
   "metadata": {},
   "outputs": [
    {
     "ename": "ModuleNotFoundError",
     "evalue": "No module named 'win32com'",
     "output_type": "error",
     "traceback": [
      "\u001b[0;31m---------------------------------------------------------------------------\u001b[0m",
      "\u001b[0;31mModuleNotFoundError\u001b[0m                       Traceback (most recent call last)",
      "Cell \u001b[0;32mIn[1], line 1\u001b[0m\n\u001b[0;32m----> 1\u001b[0m \u001b[38;5;28;01mfrom\u001b[39;00m \u001b[38;5;21;01mGenerator\u001b[39;00m \u001b[38;5;28;01mimport\u001b[39;00m Coverletter, save_to_word, convert_to_pdf\n",
      "File \u001b[0;32m~/Desktop/My_Projects/CoverLetter_Generator/Generator.py:5\u001b[0m\n\u001b[1;32m      3\u001b[0m \u001b[38;5;28;01mimport\u001b[39;00m \u001b[38;5;21;01mos\u001b[39;00m\n\u001b[1;32m      4\u001b[0m \u001b[38;5;28;01mfrom\u001b[39;00m \u001b[38;5;21;01mdocx\u001b[39;00m \u001b[38;5;28;01mimport\u001b[39;00m Document\n\u001b[0;32m----> 5\u001b[0m \u001b[38;5;28;01mimport\u001b[39;00m \u001b[38;5;21;01mwin32com\u001b[39;00m\u001b[38;5;21;01m.\u001b[39;00m\u001b[38;5;21;01mclient\u001b[39;00m\n\u001b[1;32m      7\u001b[0m \u001b[38;5;28;01mdef\u001b[39;00m \u001b[38;5;21mGPT\u001b[39m(msg):\n\u001b[1;32m      9\u001b[0m     \u001b[38;5;28;01mwith\u001b[39;00m \u001b[38;5;28mopen\u001b[39m(\u001b[38;5;124m'\u001b[39m\u001b[38;5;124m./config.json\u001b[39m\u001b[38;5;124m'\u001b[39m, \u001b[38;5;124m'\u001b[39m\u001b[38;5;124mr\u001b[39m\u001b[38;5;124m'\u001b[39m) \u001b[38;5;28;01mas\u001b[39;00m f:\n",
      "\u001b[0;31mModuleNotFoundError\u001b[0m: No module named 'win32com'"
     ]
    }
   ],
   "source": [
    "from Generator import Coverletter, save_to_word, convert_to_pdf"
   ]
  },
  {
   "attachments": {},
   "cell_type": "markdown",
   "metadata": {},
   "source": [
    "2. input Date, Companies and Jobs"
   ]
  },
  {
   "cell_type": "code",
   "execution_count": null,
   "metadata": {},
   "outputs": [],
   "source": [
    "DATE = \"May 22nd, 2023\"\n",
    "CJ = [\n",
    "    {\"company\": \"Peloton Talent Community\", \n",
    "     \"job\": \"Software Engineering Internships\"},\n",
    "\n",
    "]\n",
    "\n",
    "job_description = '''Work Term:\t2025 - Winter\n",
    "Job Type:\tCo-op Main\n",
    "Job Title:\tAI Engineering\n",
    "Number of Job Openings:\t1\n",
    "Job Category (NOC):\t2173 Software Engineers and Designers\n",
    "Level:\t\n",
    "Intermediate\n",
    "Senior\n",
    "Region:\tON - Toronto\n",
    "Job - Province/State:\tOntario\n",
    "Job - Country:\tCanada\n",
    "Job Location (If Exact Address Unknown or Multiple Locations):\tToronto\n",
    "Employment Location Arrangement:\tHybrid\n",
    "Additional Employment Arrangement Location Information:\tWe are securing an office in Toronto and when that office is opened, this position will be hybrid 2-3 days per week.\n",
    "Work Term Duration:\t4 month work term\n",
    "Job Summary:\tOverview:\n",
    "Guidepoint seeks an AI Engineer as an integral member of the Toronto-based Data/AI team. The Toronto Technology Hub will serve as the base of our new Data/AI team, dedicated to building a modern data infrastructure for advanced analytics and the development of responsible AI. This strategic investment is integral to Guidepoint's vision for the future, aiming to develop cutting-edge Generative AI and analytical capabilities that will underpin Guidepoint's Next-Gen research enablement platform and data products.\n",
    "This will be a hybrid co-op in our new Toronto office.\n",
    "\n",
    "More about Guidepoint's Technology Team:\n",
    "Guidepoint's Technology team thrives on problem-solving and creating happier users. As Guidepoint works to achieve its mission of making individuals, businesses, and the world smarter through personalized knowledge-sharing solutions, the engineering team is taking on challenges to improve our internal application architecture and create new AI-enabled products to optimize the seamless delivery of our services.\n",
    "\n",
    "\n",
    "About Guidepoint:\n",
    "Guidepoint is a leading research enablement platform designed to advance understanding and empower our clients' decision-making process. Powered by innovative technology, real-time data, and hard-to-source expertise, we help our clients to turn answers into action.\n",
    "Backed by a network of nearly 1.5 million experts and Guidepoint's 1,300 employees worldwide, we inform leading organizations' research by delivering on-demand intelligence and research on request. With Guidepoint, companies and investors can better navigate the abundance of information available today, making it both more useful and more powerful.\n",
    "At Guidepoint, our success relies on the diversity of our employees, advisors, and client base, which allows us to create connections that offer a wealth of perspectives. We are committed to upholding policies that contribute to an equitable and welcoming environment for our community, regardless of background, identity, or experience.\n",
    "Job Responsibilities:\tWhat You'll Do:\n",
    "Collaborate with data engineering and data science teams to innovate and establish best practices\n",
    "Collaborate with the product and client services teams to define priorities and influence product roadmap\n",
    "Work with senior AI/ML engineers, guiding them in building a modern AI infrastructure and developing responsible AI solutions\n",
    "Required Skills:\tWhat You Have:\n",
    "Demonstrated proactive engagement with eagerness to learn\n",
    "Excellent communication skills, adept at articulating complex ideas with clarity and precision\n",
    "Collaborative in approach, actively seeking guidance when necessary\n",
    "Skilled in widely used programming languages, notably Python and Nodejs\n",
    "Possess a fervent curiosity or keen interest in software design, data structures, and LLMs with a user-centric or product-driven mindset\n",
    "Analytical and good with data mining (especially unstructured/text data)\n",
    "Familiar with OpenAI APIs and RAG architecture\n",
    "Some prompt engineering experience (even in academic context) very nice to have\n",
    "Critical thinking and problem-solving abilities\n",
    "Compensation and Benefits:\t$40/hour\n",
    "Targeted Degrees and Disciplines:\t\n",
    "Targeted Clusters\n",
    "- Theme - Computing: Information Systems and Data Management\n",
    "Application Information\n",
    "Application Deadline:\tSeptember 17, 2024 09:00 AM\n",
    "Application Documents Required:\tUniversity of Waterloo Co-op Work History,Résumé,Grade Report\n",
    "Additional Application Information:\tEmployer will be contacting you directly to make interview arrangements.\n",
    "\n",
    "Within your application package please include the answer to the following question:\n",
    "Outside of your school curriculum, what tools and technologies are you excited about and learning on your own?\n",
    "Application Method:\tWaterlooWorks\n",
    "Company Information\n",
    "Organization:\tGuidepoint Global LLC\n",
    "Division:\tDivisional Office'''\n"
   ]
  },
  {
   "attachments": {},
   "cell_type": "markdown",
   "metadata": {},
   "source": [
    "3. generate"
   ]
  },
  {
   "cell_type": "code",
   "execution_count": null,
   "metadata": {},
   "outputs": [
    {
     "name": "stdout",
     "output_type": "stream",
     "text": [
      "1/7\n",
      "2/7\n",
      "3/7\n",
      "4/7\n",
      "5/7\n",
      "6/7\n",
      "7/7\n"
     ]
    }
   ],
   "source": [
    "n = len(CJ)\n",
    "cnt = 0\n",
    "FOLDER = \"./CoverLetters/\"\n",
    "for cj in CJ:\n",
    "    temp_company = cj[\"company\"]\n",
    "    temp_job = cj[\"job\"]\n",
    "\n",
    "    coverletter = Coverletter(temp_company, temp_job, DATE)\n",
    "\n",
    "    save_to_word(coverletter, FOLDER+f\"{temp_company}--{temp_job}.docx\")\n",
    "    convert_to_pdf(FOLDER+f\"{temp_company}--{temp_job}.docx\", FOLDER+f\"{temp_company}--{temp_job}.pdf\")\n",
    "\n",
    "    cnt += 1\n",
    "    print(f\"{cnt}/{n}\")\n",
    "\n",
    "    \n"
   ]
  }
 ],
 "metadata": {
  "kernelspec": {
   "display_name": "Python 3",
   "language": "python",
   "name": "python3"
  },
  "language_info": {
   "codemirror_mode": {
    "name": "ipython",
    "version": 3
   },
   "file_extension": ".py",
   "mimetype": "text/x-python",
   "name": "python",
   "nbconvert_exporter": "python",
   "pygments_lexer": "ipython3",
   "version": "3.9.16"
  },
  "orig_nbformat": 4
 },
 "nbformat": 4,
 "nbformat_minor": 2
}
